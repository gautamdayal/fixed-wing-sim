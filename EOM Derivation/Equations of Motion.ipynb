{
 "cells": [
  {
   "cell_type": "markdown",
   "id": "00c544b7-dd00-4e8a-9e0a-95402ea84c96",
   "metadata": {},
   "source": [
    "# Equations of Motion for a 6 DOF Aircraft\n",
    "\n",
    "Based on:\n",
    "- [Aircraft 6-DOF Equations and Coding in Python](https://www.youtube.com/watchv=hr_PqdkG6XY&list=PLcmbTy9X3gXs4JVXYucrMz5bJ4ZuaEGJ_&index=1)\n",
    "- AIRCRAFT CONTROL AND SIMULATION 3rd Ed. Dynamics, Controls Design, & Autonomous Systems - Stevens, Lewis, Johnson (Wiley)"
   ]
  },
  {
   "cell_type": "code",
   "execution_count": 2,
   "id": "94c1985e-b31e-482b-9afe-e639162b12d2",
   "metadata": {},
   "outputs": [],
   "source": [
    "import numpy as np\n",
    "from sympy import *"
   ]
  },
  {
   "cell_type": "markdown",
   "id": "07fe11d8-6bf6-4443-8bac-00c4c42bdd5f",
   "metadata": {},
   "source": [
    "<img src=\"reference_frames.png\" alt=\"Ref\" width=\"600\" />\n",
    "\n"
   ]
  },
  {
   "cell_type": "markdown",
   "id": "132bce32",
   "metadata": {},
   "source": [
    "<img src=\"flat_earth_frame.png\" alt=\"flat earth\" width=\"600\" />"
   ]
  },
  {
   "cell_type": "markdown",
   "id": "d8154b33",
   "metadata": {},
   "source": [
    "This simulation will use flat-Earth equations, describing motion over a small area of a nonrotating Earth, with constant gravity.\n",
    "\n",
    "Earth centered, earth fixed CS: [x_e, y_e, z_e]\n",
    "\n",
    "North East Down (NED) CS: [x_n, y_n, z_n]\n",
    "- NED rotates wrt aircraft according to curvature of earth\n",
    "- Tangent to earth's surface\n"
   ]
  },
  {
   "cell_type": "markdown",
   "id": "a19fe5e7-be55-4a84-ba3e-ed526f18a0fe",
   "metadata": {},
   "source": [
    "### Reference Frames and Coordinate Systems"
   ]
  },
  {
   "cell_type": "markdown",
   "id": "66bf9381",
   "metadata": {},
   "source": [
    "<img src=\"coordinate systems.png\" alt=\"flat earth\" width=\"600\" />"
   ]
  },
  {
   "cell_type": "markdown",
   "id": "31826221-0b91-40bf-95eb-73558fc9ca70",
   "metadata": {},
   "source": [
    "Assumptions:\n",
    "- The Earth frame is an inertial reference frame.\n",
    "- Position is measured in a tangent-plane coordinate system, tp.\n",
    "- The gravity vector is normal to the tangent plane and constant in magnitude.\n"
   ]
  },
  {
   "cell_type": "markdown",
   "id": "5731e5bc",
   "metadata": {},
   "source": [
    "\\begin{align*}\n",
    "r^n_{CM/T} &: \\text{position vector, aircract CM wrt point T, resolved in NED CS} \\\\\n",
    "v^b_{CM/e} &: \\text{velocity vector, aircraft CM wrt inertial frame e, resolved in body fixed CS b} \\\\\n",
    "\\omega_{b/e}^b &: \\text{angular velocity vector, aircraft body fram wrt inertial frame, resolved in body CS} \\\\\n",
    "& \\text {**All state derivates will taken in body frame**}\n",
    "\\end{align*}"
   ]
  },
  {
   "cell_type": "markdown",
   "id": "a25c2892",
   "metadata": {},
   "source": [
    "## Translational Equations"
   ]
  },
  {
   "cell_type": "code",
   "execution_count": 15,
   "id": "ea0ce9b7",
   "metadata": {},
   "outputs": [
    {
     "data": {
      "text/latex": [
       "$\\displaystyle \\left[\\begin{matrix}\\frac{F_{x}}{m} - G \\sin{\\left(\\theta \\right)} - q w + r v\\\\\\frac{F_{y}}{m} + G \\sin{\\left(\\phi \\right)} \\cos{\\left(\\theta \\right)} + p w - r u\\\\\\frac{F_{z}}{m} + G \\cos{\\left(\\phi \\right)} \\cos{\\left(\\theta \\right)} - p v + q u\\end{matrix}\\right]$"
      ],
      "text/plain": [
       "Matrix([\n",
       "[         F_x/m - G*sin(theta) - q*w + r*v],\n",
       "[F_y/m + G*sin(phi)*cos(theta) + p*w - r*u],\n",
       "[F_z/m + G*cos(phi)*cos(theta) - p*v + q*u]])"
      ]
     },
     "execution_count": 15,
     "metadata": {},
     "output_type": "execute_result"
    }
   ],
   "source": [
    "u,v,w,p,q,r,G,psi,theta,phi,F_x,F_y,F_z,m = symbols('u,v,w,p,q,r,G,psi,theta,phi,F_x,F_y,F_z,m')\n",
    "\n",
    "vel_b = Matrix([u,v,w])\n",
    "omega_b = Matrix([p,q,r])\n",
    "F_a = Matrix([F_x,F_y,F_z])\n",
    "g_n = Matrix([0,0, G])\n",
    "\n",
    "\n",
    "Rx = Matrix([[1, 0, 0],\n",
    "             [0, cos(phi), sin(phi)],\n",
    "             [0, -sin(phi), cos(phi)]])\n",
    "\n",
    "Ry = Matrix([[cos(theta), 0, -sin(theta)],\n",
    "             [0, 1, 0],\n",
    "             [sin(theta), 0, cos(theta)]])\n",
    "\n",
    "Rz = Matrix([[cos(psi), sin(psi), 0],\n",
    "             [-sin(psi), cos(psi), 0],\n",
    "             [0, 0, 1]])\n",
    "\n",
    "C_bn = Rx @ Ry @ Rz\n",
    "\n",
    "acc_cm = 1/m*F_a + C_bn @ g_n - (omega_b.cross(vel_b))\n",
    "\n",
    "acc_cm"
   ]
  },
  {
   "cell_type": "markdown",
   "id": "102d883e",
   "metadata": {},
   "source": [
    "***EXPAND DERIVATION***\n",
    "\n",
    "$$\n",
    "\\dot v^b_{CM/e} = \\frac{1}{m} F^b_{A,T} + C_{b/n}g^n - (\\omega ^b_{b/e} \\times v^b_{CM/e})\n",
    "$$\n",
    "\n",
    "$\\dot v^b_{CM/e} $: Acceleration\n",
    "\n",
    "$\\frac{1}{m} F^b_{A,T}$: Acceleration due to aerodynamic and thrust forces\n",
    "\n",
    "- m: mass\n",
    "- F: Aerodynamic and thrust forces\n",
    "\n",
    "$C_{b/n}g^n$: Acceleration due to gravity\n",
    "\n",
    "- C: Direction cosine matrix rotation of NED to body CS (Euler angles)\n",
    "- g: gravity resolved in NED CS (multiplied by the cosine matrix to change to body frame)\n",
    "\n",
    "$\\omega ^b_{b/e} \\times v^b_{CM/e}$: Acceleration due to rotation of velocity vector\n",
    "\n",
    "- $\\omega$: Angular velocity of body frame wrt earth frame\n",
    "- v: velocity of cm wrt earth frame (state)\n",
    "\n",
    "\n",
    "\\begin{align*}\n",
    "    v^b_{CM/e} & = \\begin{bmatrix} u \\\\ v \\\\ w\\end{bmatrix} \\qquad \n",
    "    \\omega ^b_{b/e} = \\begin{bmatrix} p \\\\ q \\\\ r\\end{bmatrix} \\\\\n",
    "    F^b_{A,T} & = \\begin{bmatrix} F_{xb} \\\\ F_{yb} \\\\ F_{zb}\\end{bmatrix} \\qquad g^n = \\begin{bmatrix} 0 \\\\ 0 \\\\ G\\end{bmatrix} \\\\\n",
    "\\end{align*}\n",
    "\n",
    "$$\n",
    "C_{b/n} = \\begin{bmatrix} cos(\\theta)cos(\\psi) & cos(\\theta)sin(\\psi) & -sin(\\theta) \\\\\n",
    "                                -cos(\\phi)sin(\\psi) + sin(\\phi)sin(\\theta)cos(\\psi) & cos(\\phi)cos(\\psi) + sin(\\phi)sin(\\theta)sin(\\psi) & sin(\\phi)cos(\\theta) \\\\ \n",
    "                                sin(\\phi)sin(\\psi) + cos(\\phi)sin(\\theta)cos(\\psi) & -sin(\\phi)cos(\\psi) + cos(\\phi)sin(\\theta)sin(\\psi) & cos(\\phi)cos(\\theta) \\end{bmatrix}\n",
    "$$\n",
    "\n",
    "$$\n",
    "C_{b/n}g^n = \\begin{bmatrix} -Gsin(\\theta) \\\\ Gsin(\\phi)cos(\\theta) \\\\ Gcos(\\phi)cos(\\theta) \\end{bmatrix}\n",
    "$$\n",
    "$$\n",
    "\\therefore \\dot v^b_{CM/e}= \n",
    "    \\begin{bmatrix}\n",
    "        \\dot u\\\\ \\dot v \\\\ \\dot w\n",
    "    \\end{bmatrix} =\n",
    "    \\begin{bmatrix} \n",
    "        \\frac{1}{m}F_{xb} -Gsin(\\theta) - wq + vr \\\\\n",
    "        \\frac{1}{m}F_{yb} + Gsin(\\phi)cos(\\theta) - ur + wp \\\\\n",
    "        \\frac{1}{m}F_{zb} + Gcos(\\phi)cos(\\theta) - vp + uq \n",
    "    \\end{bmatrix}\n",
    "$$"
   ]
  },
  {
   "cell_type": "markdown",
   "id": "6c1d722e",
   "metadata": {},
   "source": [
    "## Rotational Equations"
   ]
  },
  {
   "cell_type": "code",
   "execution_count": 78,
   "id": "1dd6706c",
   "metadata": {},
   "outputs": [
    {
     "data": {
      "text/latex": [
       "$\\displaystyle \\left[\\begin{matrix}- \\frac{J_{xz} \\left(- J_{y} p q + N + q \\left(J_{x} p + J_{xz} r\\right)\\right)}{J_{x} J_{z} - J_{xz}^{2}} + \\frac{J_{z} \\left(J_{y} q r + L - q \\left(J_{xz} p + J_{z} r\\right)\\right)}{J_{x} J_{z} - J_{xz}^{2}}\\\\\\frac{M + p \\left(J_{xz} p + J_{z} r\\right) - r \\left(J_{x} p + J_{xz} r\\right)}{J_{y}}\\\\\\frac{J_{x} \\left(- J_{y} p q + N + q \\left(J_{x} p + J_{xz} r\\right)\\right)}{J_{x} J_{z} - J_{xz}^{2}} - \\frac{J_{xz} \\left(J_{y} q r + L - q \\left(J_{xz} p + J_{z} r\\right)\\right)}{J_{x} J_{z} - J_{xz}^{2}}\\end{matrix}\\right]$"
      ],
      "text/plain": [
       "Matrix([\n",
       "[-J_xz*(-J_y*p*q + N + q*(J_x*p + J_xz*r))/(J_x*J_z - J_xz**2) + J_z*(J_y*q*r + L - q*(J_xz*p + J_z*r))/(J_x*J_z - J_xz**2)],\n",
       "[                                                                         (M + p*(J_xz*p + J_z*r) - r*(J_x*p + J_xz*r))/J_y],\n",
       "[ J_x*(-J_y*p*q + N + q*(J_x*p + J_xz*r))/(J_x*J_z - J_xz**2) - J_xz*(J_y*q*r + L - q*(J_xz*p + J_z*r))/(J_x*J_z - J_xz**2)]])"
      ]
     },
     "execution_count": 78,
     "metadata": {},
     "output_type": "execute_result"
    }
   ],
   "source": [
    "J_x,J_y,J_z,J_xz,L,M,N = symbols('J_x,J_y,J_z,J_xz,L,M,N')\n",
    "\n",
    "M_AT = Matrix([L, M, N])\n",
    "J_b = Matrix([[J_x, 0 , J_xz],\n",
    "              [0, J_y, 0],\n",
    "              [J_xz,0,J_z]])\n",
    "\n",
    "ang_acc_cm = (J_b.inv() @ (M_AT - omega_b.cross(J_b @ omega_b)))\n",
    "\n",
    "ang_acc_cm"
   ]
  },
  {
   "cell_type": "markdown",
   "id": "3d1f9d17",
   "metadata": {},
   "source": [
    "\n",
    "$$\n",
    "\\dot \\omega^b_{b/e} = (J^b)^{-1} \\left[M^b_{A,T} - (\\omega^b_{b/e} \\times v^b_{CM/e})J^b \\omega^b_{b/e} \\right]\n",
    "$$\n",
    "\n",
    "$\\dot \\omega^b_{b/e}$: angular acceleration\n",
    "\n",
    "$M^b_{A,T}$: angular acceleration due to moments from aerodynamic and thrust forces, Moment vector\n",
    "\n",
    "$(\\omega^b_{b/e} \\times v^b_{CM/e})J^b \\omega^b_{b/e}$: angular acceleration due to rotation of angular momentum vector\n",
    "\n",
    "- $\\omega^b_{b/e}$: angular velocity of body CS wrt earth frame\n",
    "- $v^b_{CM/e}$: velocity of CM wrt earth frame\n",
    "- $J^b$: inertia matrix\n",
    "\n",
    "\n",
    "\\begin{align*}\n",
    "    M^b_{A,T} & = \\begin{bmatrix} L \\\\ M \\\\ N \\end{bmatrix} \\\\\n",
    "    J^b = \n",
    "    \\begin{bmatrix} J_{xx} & J_{xy} & J_{xz} \\\\\n",
    "                    J_{yx} & J_{yy} & J_{yz} \\\\\n",
    "                    J_{zx} & J_{zy} & J_{zz} \\end{bmatrix} &=\n",
    "    \\begin{bmatrix} J_{x} & 0 & J_{xz} \\\\\n",
    "                    0 & J_{y} & 0 \\\\\n",
    "                    J_{xz} & 0 & J_{z} \\end{bmatrix}\n",
    "\\end{align*}\n",
    "\n",
    "- assuming plane is symmetric about xz plane, due to the symmetry the yz and xy products of inertia cancel out (i.e. $J_{yz}, J_{xy} = 0$)\n",
    "\n",
    "\n",
    "$$\n",
    "\\therefore \\dot \\omega^b_{b/e} = \\begin{bmatrix} \\dot p \\\\ \\dot q \\\\ \\dot r \\end{bmatrix} = \\begin{bmatrix}\n",
    "\\frac{J_{xz} (J_x-J_y+J_z)pq - \\left[J_z(J_z-J_y) + J^2_{xz} \\right]qr + J_z L + J_{xz}N}{J_xJ_z-J^2_{xz}} \\\\\n",
    "\\frac{(J_z - J_x)rp - J_{xz}(p^2-r^2)+M}{J_y} \\\\\n",
    "\\frac{-J_{xz}(J_x-J_y+J_z)qr + \\left[J_x(J_x-J_y) +J^2_{xz}  \\right]pqr + J_{xz}L + J_x N}{J_xJ_z - J^2_{xz}}\n",
    "\\end{bmatrix}\n",
    "$$\n",
    "\n"
   ]
  },
  {
   "cell_type": "code",
   "execution_count": null,
   "id": "1989a3d5",
   "metadata": {},
   "outputs": [],
   "source": []
  }
 ],
 "metadata": {
  "kernelspec": {
   "display_name": "ae483",
   "language": "python",
   "name": "python3"
  },
  "language_info": {
   "codemirror_mode": {
    "name": "ipython",
    "version": 3
   },
   "file_extension": ".py",
   "mimetype": "text/x-python",
   "name": "python",
   "nbconvert_exporter": "python",
   "pygments_lexer": "ipython3",
   "version": "3.12.5"
  }
 },
 "nbformat": 4,
 "nbformat_minor": 5
}
